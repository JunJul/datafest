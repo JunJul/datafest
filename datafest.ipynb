{
 "cells": [
  {
   "cell_type": "markdown",
   "id": "94d40d96-3065-4544-9ebb-0e28958386a4",
   "metadata": {},
   "source": [
    "### Intrdouction: \n",
    "\n",
    "#### I was doing this project in a Hackthon called DataFest. The DataFest is held at UCLA, and dataset was given by a learning paltform called CourseKata which teaching students how to learn statistics. The main topic of this Hackthon was to find the insights of how to improve student's engagment.\n",
    "\n",
    "#### In my opinion, our team should look into the response dataset which has all the responds in each question from each student, according to this idea, I looked into the response dataset and found out there were a lot of students cannot get the points from some specific type of questions. To gain more insight, I tried to merge response, item, and page views dataset together to find out what type of question do students struggle the most and why they only try once or twice attempt for thse questions.\n",
    "\n",
    "#### My jobs in my team was to merge dataset together, so the merged dataset could helped my teammates to do more analysis."
   ]
  },
  {
   "cell_type": "markdown",
   "id": "189a5e4a-fd03-42f3-a2ba-0c5a00dbd2f8",
   "metadata": {},
   "source": [
    "#### Due to the policy of the DataFest, I cannot show any information about the datasets from CourseKata, so only the codes are shown in this notebook."
   ]
  },
  {
   "cell_type": "code",
   "execution_count": null,
   "id": "42b7109c-7b86-4631-bb3b-b70eb22718cd",
   "metadata": {},
   "outputs": [],
   "source": [
    "import numpy as np\n",
    "import pandas as pd\n",
    "import matplotlib.pyplot as plt\n",
    "import seaborn as sns\n",
    "from pandas.api.types import is_numeric_dtype\n",
    "import re\n",
    "\n",
    "sns.set_theme()"
   ]
  },
  {
   "cell_type": "code",
   "execution_count": null,
   "id": "7d4015c0-f421-4477-97de-17b972b73aaf",
   "metadata": {},
   "outputs": [],
   "source": [
    "%run -i \"Feature_Engineering_Functions.py\""
   ]
  },
  {
   "cell_type": "code",
   "execution_count": null,
   "id": "f14818b2-89c2-47e5-bb2a-8f850fdf2638",
   "metadata": {},
   "outputs": [],
   "source": [
    "responses = pd.read_csv(\"Data/Full Data/responses.csv\")"
   ]
  },
  {
   "cell_type": "code",
   "execution_count": null,
   "id": "4d02c16b-78db-44cd-ab00-ae4378d22409",
   "metadata": {},
   "outputs": [],
   "source": [
    "items = pd.read_csv(\"Data/Full Data/items.csv\")"
   ]
  },
  {
   "cell_type": "code",
   "execution_count": null,
   "id": "06e7a662-8888-42f6-9365-2522bc6dc462",
   "metadata": {},
   "outputs": [],
   "source": [
    "page_views = pd.read_csv(\"Data/Full Data/page_views.csv\")"
   ]
  },
  {
   "cell_type": "markdown",
   "id": "5a29018a-1dba-407c-9098-3d38df63921d",
   "metadata": {},
   "source": [
    "## Response"
   ]
  },
  {
   "cell_type": "code",
   "execution_count": null,
   "id": "4beee836-1408-4d15-8c7c-f3e5497c6128",
   "metadata": {
    "scrolled": true
   },
   "outputs": [],
   "source": [
    "responses.head()"
   ]
  },
  {
   "cell_type": "code",
   "execution_count": null,
   "id": "5784e426-f501-4bf5-88ce-f1c713a80ab7",
   "metadata": {},
   "outputs": [],
   "source": [
    "responses.tail()"
   ]
  },
  {
   "cell_type": "code",
   "execution_count": null,
   "id": "08831c91-4885-44f3-a176-3a72f1c6a55e",
   "metadata": {},
   "outputs": [],
   "source": [
    "responses.info()"
   ]
  },
  {
   "cell_type": "code",
   "execution_count": null,
   "id": "f00e9cbf-a985-487e-a9a2-8c72a24b3b04",
   "metadata": {
    "scrolled": true
   },
   "outputs": [],
   "source": [
    "responses.describe()"
   ]
  },
  {
   "cell_type": "code",
   "execution_count": null,
   "id": "9c8191c8-be4c-437a-b87c-dd1d2732ffba",
   "metadata": {
    "scrolled": true
   },
   "outputs": [],
   "source": [
    "response_cols = list(responses.describe().columns)"
   ]
  },
  {
   "cell_type": "code",
   "execution_count": null,
   "id": "8583fa11-a8a4-4e97-9e2c-77eb7d18b16b",
   "metadata": {},
   "outputs": [],
   "source": [
    "response_cols = [\"chapter\", \"item_id\", \"item_type\", \"lrn_question_reference\"] + response_cols + [\"student_id\", \"page\", \"completes_page\"]"
   ]
  },
  {
   "cell_type": "code",
   "execution_count": null,
   "id": "ddde7b2f-59aa-403c-b4fb-c0de99cfb9f9",
   "metadata": {},
   "outputs": [],
   "source": [
    "response_cols"
   ]
  },
  {
   "cell_type": "code",
   "execution_count": null,
   "id": "636e9e79-aa87-4735-8110-a2949ec29d5f",
   "metadata": {},
   "outputs": [],
   "source": [
    "response_interested = responses[response_cols].copy()\n",
    "response_interested.head()"
   ]
  },
  {
   "cell_type": "code",
   "execution_count": null,
   "id": "030ad9a9-0496-48ca-ba3e-2ea0fd060f9c",
   "metadata": {},
   "outputs": [],
   "source": [
    "response_interested.tail()"
   ]
  },
  {
   "cell_type": "code",
   "execution_count": null,
   "id": "c56c0ce2-0741-4dbb-a632-047b7a6d16c4",
   "metadata": {},
   "outputs": [],
   "source": [
    "count_uniques(response_interested)"
   ]
  },
  {
   "cell_type": "markdown",
   "id": "4eeb72fd-3186-4133-869f-23ac11a7e88a",
   "metadata": {},
   "source": [
    "### Group by \"chapter\", \"item_id\", \"item_type\", \"lrn_question_reference\""
   ]
  },
  {
   "cell_type": "code",
   "execution_count": null,
   "id": "2e6025b7-27c0-4296-af07-4f5e6d216dec",
   "metadata": {
    "scrolled": true
   },
   "outputs": [],
   "source": [
    "response_interested.groupby([\"chapter\", \"item_id\", \"item_type\", \"lrn_question_reference\"]).apply(pd.DataFrame).drop([\"chapter\", \"item_id\", \"lrn_question_reference\", \"item_type\"], axis=1)"
   ]
  },
  {
   "cell_type": "markdown",
   "id": "703051c3-ef72-4cae-8a3d-9ffbf185ac63",
   "metadata": {},
   "source": [
    "### Group by \"chapter\", \"item_id\", \"item_type\", \"lrn_question_reference\" sum points_possible"
   ]
  },
  {
   "cell_type": "code",
   "execution_count": null,
   "id": "d7215e02-2999-478c-968f-d6e0abefb95a",
   "metadata": {
    "scrolled": true
   },
   "outputs": [],
   "source": [
    "totalPossiblePoints = response_interested.groupby([\"chapter\", \"item_id\", \"item_type\", \"lrn_question_reference\", \"student_id\"])[\"points_possible\"].sum()\n",
    "totalPossiblePoints"
   ]
  },
  {
   "cell_type": "markdown",
   "id": "e027ebec-6dbc-4037-af17-c3c54bc7f793",
   "metadata": {},
   "source": [
    "### Group by \"chapter\", \"item_id\", \"item_type\", \"lrn_question_reference\" sum points_earned"
   ]
  },
  {
   "cell_type": "code",
   "execution_count": null,
   "id": "e5c7a19b-94c9-4ea8-881c-e6d426baa4e6",
   "metadata": {
    "scrolled": true
   },
   "outputs": [],
   "source": [
    "totalEarnedPts = response_interested.groupby([\"chapter\", \"item_id\", \"item_type\", \"lrn_question_reference\", \"student_id\"])[\"points_earned\"].sum()\n",
    "totalEarnedPts"
   ]
  },
  {
   "cell_type": "markdown",
   "id": "86eb51d4-4077-4134-b27d-2f835b5201ab",
   "metadata": {},
   "source": [
    "The last 5 rows of the dataframe showed some students cannot even earned points from a specific question, so we decided to move forward to inveestigate the why students cannot get pionts from these questions"
   ]
  },
  {
   "cell_type": "markdown",
   "id": "b8bb2cfc-dbe1-449b-8804-22bccaae4fbf",
   "metadata": {},
   "source": [
    "I also try to incorporate the nPiontsDataFrame with the number of attempt for these questions"
   ]
  },
  {
   "cell_type": "code",
   "execution_count": null,
   "id": "80f97376-335f-4232-8b3a-0edd91c3c1e9",
   "metadata": {},
   "outputs": [],
   "source": [
    "totalAttempts = response_interested.groupby([\"chapter\", \"item_id\", \"item_type\", \"lrn_question_reference\", \"student_id\"])[[\"attempt\"]].sum()\n",
    "totalAttempts_df = pd.DataFrame(totalAttempts).reset_index()"
   ]
  },
  {
   "cell_type": "code",
   "execution_count": null,
   "id": "d24d35ca-4abb-4cfe-924b-945961309c74",
   "metadata": {},
   "outputs": [],
   "source": [
    "totalAttempts_df"
   ]
  },
  {
   "cell_type": "markdown",
   "id": "fe302522-6289-414e-a7c3-9549c715445e",
   "metadata": {},
   "source": [
    "### Attempts and points earned for each studnet"
   ]
  },
  {
   "cell_type": "code",
   "execution_count": null,
   "id": "5961dc2a-9504-44c6-80d5-24e0321575ce",
   "metadata": {},
   "outputs": [],
   "source": [
    "attempts_ptEarned = response_interested.groupby([\"chapter\", \"item_id\", \"item_type\", \n",
    "                                                 \"lrn_question_reference\", \"student_id\", \"page\"])[[\"attempt\", \"points_earned\"]].sum()\n",
    "attempts_ptEarned = attempts_ptEarned.reset_index()\n",
    "attempts_ptEarned"
   ]
  },
  {
   "cell_type": "markdown",
   "id": "df937bc1-f288-4b81-8a88-7fed6c205db7",
   "metadata": {},
   "source": [
    "### Divide points_earned by points_possible and get the dataframe that are the questions that students cannot complete"
   ]
  },
  {
   "cell_type": "code",
   "execution_count": null,
   "id": "1c05f7e0-d3f5-4d1d-9893-653df8d4689e",
   "metadata": {},
   "outputs": [],
   "source": [
    "proportionEarned = totalEarnedPts / totalPossiblePoints\n",
    "noPoint_indices = np.where(pd.to_numeric(proportionEarned, errors='coerce').notnull() == False)[0]\n",
    "noPoints_info = proportionEarned[noPoint_indices]"
   ]
  },
  {
   "cell_type": "code",
   "execution_count": null,
   "id": "ef66e04d-6443-4168-9e99-25a96db6828b",
   "metadata": {
    "scrolled": true
   },
   "outputs": [],
   "source": [
    "noPoints_df = pd.DataFrame(noPoints_info).reset_index()\n",
    "noPoints_df = noPoints_df.iloc[:, 0:5]\n",
    "noPoints_df"
   ]
  },
  {
   "cell_type": "markdown",
   "id": "95177c9c-e75a-478d-82a2-7b197fd99cec",
   "metadata": {},
   "source": [
    "### Select no pionts from attempts and earned pionts data frame"
   ]
  },
  {
   "cell_type": "code",
   "execution_count": null,
   "id": "c7e8e341-4bc2-4444-82eb-d34fbebe2834",
   "metadata": {},
   "outputs": [],
   "source": [
    "attempts_noPts = attempts_ptEarned.iloc[noPoint_indices, :].copy().reset_index(drop=True)\n",
    "attempts_noPts"
   ]
  },
  {
   "cell_type": "markdown",
   "id": "a7dbb784-49a8-44af-97e5-1d9a6b838269",
   "metadata": {},
   "source": [
    "#### Most Student at least try it once"
   ]
  },
  {
   "cell_type": "code",
   "execution_count": null,
   "id": "ff8a68e2-b94e-4e11-8c29-811dc47d6894",
   "metadata": {},
   "outputs": [],
   "source": [
    "any(attempts_noPts[\"attempt\"] == 0)"
   ]
  },
  {
   "cell_type": "markdown",
   "id": "2da285fd-0eec-4d6f-b224-898732b8b466",
   "metadata": {},
   "source": [
    "### countplot for item type."
   ]
  },
  {
   "cell_type": "markdown",
   "id": "59b905b7-29b0-4ad1-9345-b533b45c965d",
   "metadata": {},
   "source": [
    "The item type is the type of question."
   ]
  },
  {
   "cell_type": "code",
   "execution_count": null,
   "id": "688f88b5-7fb1-4415-a94d-b653388aca4e",
   "metadata": {},
   "outputs": [],
   "source": [
    "sns.countplot(attempts_noPts[\"item_type\"])"
   ]
  },
  {
   "cell_type": "markdown",
   "id": "ddb23ce4-3f13-4e50-8e19-0c29c27b924c",
   "metadata": {},
   "source": [
    "### Completeness of each chapter"
   ]
  },
  {
   "cell_type": "code",
   "execution_count": null,
   "id": "7cf47446-680a-45f7-a098-adaa5ebc3485",
   "metadata": {},
   "outputs": [],
   "source": [
    "response_interested.groupby([\"chapter\"])[\"completes_page\"].mean().sort_values()"
   ]
  },
  {
   "cell_type": "markdown",
   "id": "33678673-9f22-43b8-9c2b-844617162a53",
   "metadata": {},
   "source": [
    "I used the completes_page varibale to find out the completeness of each chapter. The result is that the cha12 has the lowest completeness percentage."
   ]
  },
  {
   "cell_type": "markdown",
   "id": "00758145-ca25-467b-89f1-d090dd981d98",
   "metadata": {},
   "source": [
    "### Extract section, question, Question, and drop the item_df that does not have these elements"
   ]
  },
  {
   "cell_type": "markdown",
   "id": "97aece24-489b-4191-baef-47ef12ef285f",
   "metadata": {},
   "source": [
    "I tried to split the item_id into three different columns, so we can clearly see what section of the question is, what topic of the qustion is, and what question number is it."
   ]
  },
  {
   "cell_type": "code",
   "execution_count": null,
   "id": "6ed9e2fb-5a4c-4a3e-970c-6c7563f161b1",
   "metadata": {},
   "outputs": [],
   "source": [
    "splited_ids = attempts_noPts[\"item_id\"].str.split(\"_\")\n",
    "chTitle_ques = [i for i in splited_ids if len(i) == 3]\n",
    "true_3 = [len(i) == 3 for i in splited_ids]\n",
    "indciesOf_3 = np.where(true_3)[0]"
   ]
  },
  {
   "cell_type": "code",
   "execution_count": null,
   "id": "6debaee6-ae94-4392-8963-eea6cf15bfe1",
   "metadata": {},
   "outputs": [],
   "source": [
    "title_Ch = [i[0].startswith(\"Ch\") for i in chTitle_ques]\n",
    "title_ch_indices = np.where(title_Ch)[0]\n",
    "\n",
    "title_noCh = [not i for i in title_Ch]\n",
    "title_notCh_indices = np.where(title_noCh)[0]"
   ]
  },
  {
   "cell_type": "code",
   "execution_count": null,
   "id": "21354fe9-2d51-47b6-8873-fe5f4291efdf",
   "metadata": {},
   "outputs": [],
   "source": [
    "chTitle_ques_df = pd.DataFrame(chTitle_ques)\n",
    "\n",
    "title_notCh_df = chTitle_ques_df.iloc[title_notCh_indices, :]\n",
    "goodTitle = title_notCh_df[0] + \"-\" + title_notCh_df[1]"
   ]
  },
  {
   "cell_type": "code",
   "execution_count": null,
   "id": "2183d0b1-2441-4d78-b1b5-6e39cc287bd3",
   "metadata": {},
   "outputs": [],
   "source": [
    "chTitle_ques_df.columns = [\"Section\", \"Question\", \"Number\"]"
   ]
  },
  {
   "cell_type": "code",
   "execution_count": null,
   "id": "e2e7362d-1fbf-42a8-8d73-6aaf57fe1601",
   "metadata": {},
   "outputs": [],
   "source": [
    "ch_ques = chTitle_ques_df.iloc[title_ch_indices, :]\n",
    "nonCh_ques = chTitle_ques_df.iloc[title_notCh_indices, :]"
   ]
  },
  {
   "cell_type": "code",
   "execution_count": null,
   "id": "65bcc00f-e8ba-4302-8bee-869bc7ca1590",
   "metadata": {},
   "outputs": [],
   "source": [
    "ch_ques.columns = [\"Section\", \"Question\", \"Number\"]\n",
    "ch_ques"
   ]
  },
  {
   "cell_type": "markdown",
   "id": "302dfa64-7693-4699-83fa-01c6979136bc",
   "metadata": {},
   "source": [
    "### Modify the StudBack value"
   ]
  },
  {
   "cell_type": "code",
   "execution_count": null,
   "id": "d2ec2cbb-a819-4497-967c-1b4468aaa487",
   "metadata": {},
   "outputs": [],
   "source": [
    "nonCh_ques.columns = [\"Section\", \"Question\", \"Number\"]\n",
    "nonCh_ques"
   ]
  },
  {
   "cell_type": "markdown",
   "id": "f6947f60-3485-4567-8cdf-9e8cc9f48334",
   "metadata": {},
   "source": [
    "To make more value more general, I tired to find their common name. For exmaple, the question topics are StudBack1 and StudBack2, so I could simplfy them into just StudBack"
   ]
  },
  {
   "cell_type": "code",
   "execution_count": null,
   "id": "55fec1b1-bce4-4da5-adb5-9d31b7e5aa1a",
   "metadata": {},
   "outputs": [],
   "source": [
    "indices_studBack2 = nonCh_ques[\"Question\"].str.contains(\"StudBack2\")\n",
    "indices_studBack2 = np.where(indices_studBack2)[0]\n",
    "\n",
    "indices_studBack1 = nonCh_ques[\"Question\"].str.contains(\"StudBack1\")\n",
    "indices_studBack1 = np.where(indices_studBack1)[0]\n",
    "\n",
    "nonCh_ques.iloc[indices_studBack1, 1:2] = \"StudBack\"\n",
    "nonCh_ques.iloc[indices_studBack2, 1:2] = \"StudBack\""
   ]
  },
  {
   "cell_type": "code",
   "execution_count": null,
   "id": "c78834ed-3cec-4372-8529-416cc1639ea1",
   "metadata": {},
   "outputs": [],
   "source": [
    "nonCh_ques"
   ]
  },
  {
   "cell_type": "code",
   "execution_count": null,
   "id": "7cbe57ae-c1ab-405f-8ad8-f0a71aae70fd",
   "metadata": {},
   "outputs": [],
   "source": [
    "# columns = [\"Ch\", \"Question Type\"]\n",
    "# # Create a DataFrame\n",
    "# noPts_df = pd.DataFrame(chTitle_ques, columns=columns)\n",
    "# noPts_df.to_csv(\"noPtsQuestions.csv\", index=False)"
   ]
  },
  {
   "cell_type": "markdown",
   "id": "208d6023-20b3-4244-b834-fbbbe5d7246d",
   "metadata": {},
   "source": [
    "### Extract values from the chTitle_ques"
   ]
  },
  {
   "cell_type": "code",
   "execution_count": null,
   "id": "006e7792-52a6-4eeb-98af-0475de77e089",
   "metadata": {},
   "outputs": [],
   "source": [
    "chTitle_ques_sp = []\n",
    "for i in chTitle_ques:\n",
    "    for j in i:\n",
    "        chTitle_ques_sp.append(j)"
   ]
  },
  {
   "cell_type": "code",
   "execution_count": null,
   "id": "613da6ad-35aa-4d9f-b83e-77ccc15b035e",
   "metadata": {},
   "outputs": [],
   "source": [
    "chTitle_ques_df"
   ]
  },
  {
   "cell_type": "code",
   "execution_count": null,
   "id": "2f907a8d-13ec-459a-aa59-aa1f16bed926",
   "metadata": {},
   "outputs": [],
   "source": [
    "sns.barplot(noPoints_df[\"chapter\"].value_counts(), orient=\"h\")\n",
    "plt.show()"
   ]
  },
  {
   "cell_type": "markdown",
   "id": "49a48fe9-db49-41ff-98fa-9a9c0a515cc4",
   "metadata": {},
   "source": [
    "## Grouping all types of Questions together and assgin them a reference"
   ]
  },
  {
   "cell_type": "code",
   "execution_count": null,
   "id": "f629f95d-e4de-408d-b109-6f43c7b57450",
   "metadata": {},
   "outputs": [],
   "source": [
    "noPoints_item3_df = attempts_noPts.copy()\n",
    "noPoints_item3_df = noPoints_item3_df.iloc[indciesOf_3, :]"
   ]
  },
  {
   "cell_type": "code",
   "execution_count": null,
   "id": "908c6467-b551-41f2-88c9-f9f2797b22be",
   "metadata": {},
   "outputs": [],
   "source": [
    "noPoints_item3_df"
   ]
  },
  {
   "cell_type": "code",
   "execution_count": null,
   "id": "0b8fd293-ab41-4cd5-a7e8-f3ec67368de9",
   "metadata": {},
   "outputs": [],
   "source": [
    "itemID = noPoints_item3_df[\"item_id\"].str.split(\"_\")\n",
    "section = []\n",
    "question = []\n",
    "question_num = []\n",
    "\n",
    "for i in itemID:\n",
    "    section.append(i[0])\n",
    "    question.append(i[1])\n",
    "    question_num.append(i[2])"
   ]
  },
  {
   "cell_type": "code",
   "execution_count": null,
   "id": "043ae1a6-249d-4f2f-9399-cfdf2e0069b3",
   "metadata": {},
   "outputs": [],
   "source": [
    "itemID_df = pd.DataFrame(columns=[\"Section\", \"Question\", \"Question_Numer\"])\n",
    "itemID_df[\"Section\"] = section\n",
    "itemID_df[\"Question\"] = question\n",
    "itemID_df[\"Question_Numer\"] = question_num"
   ]
  },
  {
   "cell_type": "code",
   "execution_count": null,
   "id": "ce74ae83-cf7d-4d39-867b-ca1352fa2496",
   "metadata": {},
   "outputs": [],
   "source": [
    "itemID_df"
   ]
  },
  {
   "cell_type": "code",
   "execution_count": null,
   "id": "bacffc31-e82a-4777-9cbf-50a1ea485362",
   "metadata": {},
   "outputs": [],
   "source": [
    "noPoints_item3_spDf = noPoints_item3_df.copy()"
   ]
  },
  {
   "cell_type": "code",
   "execution_count": null,
   "id": "32260971-ffb5-465d-8404-27a2994c7b3e",
   "metadata": {},
   "outputs": [],
   "source": [
    "noPoints_item3_spDf[\"Section\"] = section\n",
    "noPoints_item3_spDf[\"Question\"] = question\n",
    "noPoints_item3_spDf[\"Question_Numer\"] = question_num"
   ]
  },
  {
   "cell_type": "code",
   "execution_count": null,
   "id": "602c926b-cf3f-4b89-81c3-b7a93650825c",
   "metadata": {},
   "outputs": [],
   "source": [
    "noPoints_item3_spDf"
   ]
  },
  {
   "cell_type": "code",
   "execution_count": null,
   "id": "2b7ceae1-d6ca-4e98-8856-abf007dcd458",
   "metadata": {},
   "outputs": [],
   "source": [
    "# noPoints_total_df.to_csv(\"noPts_total.csv\")"
   ]
  },
  {
   "cell_type": "markdown",
   "id": "96acfe0d-59a6-4201-b649-e600af1d60bd",
   "metadata": {},
   "source": [
    "### Attempts for each Question"
   ]
  },
  {
   "cell_type": "code",
   "execution_count": null,
   "id": "661fa33e-eddd-47a9-8a1c-6e9bae3454a3",
   "metadata": {},
   "outputs": [],
   "source": [
    "totalAttempts_specificQuestions = response_interested.groupby([\"item_id\", \"item_type\", \"lrn_question_reference\"])[\"attempt\"].sum()\n",
    "totalAttempts_specificQuestions.sort_values(ascending=False)[0:20]"
   ]
  },
  {
   "cell_type": "code",
   "execution_count": null,
   "id": "7ac36649-de49-4149-b1f4-35362f15ea39",
   "metadata": {},
   "outputs": [],
   "source": [
    "totalAttempts = response_interested.groupby([\"item_id\", \"item_type\"])[\"attempt\"].sum()\n",
    "totalAttempts.sort_values(ascending=False)[0:20]\n",
    "noPts_totalAttempts = pd.DataFrame(totalAttempts).reset_index()\n",
    "noPts_totalAttempts"
   ]
  },
  {
   "cell_type": "code",
   "execution_count": null,
   "id": "bcfc04b3-b9c3-466c-8f2b-40c2a250c3fd",
   "metadata": {},
   "outputs": [],
   "source": [
    "totalAttempts_uniqueQ = response_interested.groupby([\"item_id\", \"item_type\"])[\"attempt\"].sum()\n",
    "totalAttempts_uniqueQ.sort_values(ascending=False)[0:20]\n",
    "totalAttempts_uniqueQ_df = pd.DataFrame(totalAttempts_uniqueQ).reset_index()\n",
    "totalAttempts_uniqueQ_df"
   ]
  },
  {
   "cell_type": "code",
   "execution_count": null,
   "id": "25c8a9f8-006c-4772-92c0-6f7e9c2b3805",
   "metadata": {},
   "outputs": [],
   "source": [
    "sns.countplot(noPts_totalAttempts[\"item_type\"])"
   ]
  },
  {
   "cell_type": "code",
   "execution_count": null,
   "id": "f112d62d-e20b-41fd-8f77-ec93993ad0de",
   "metadata": {},
   "outputs": [],
   "source": [
    "totalAttempts_specificQuestions_df = pd.DataFrame(totalAttempts_specificQuestions).reset_index()\n",
    "sns.countplot(totalAttempts_specificQuestions_df.item_type)"
   ]
  },
  {
   "cell_type": "code",
   "execution_count": null,
   "id": "4b3fc3c1-5759-4788-a591-81b8488e7fff",
   "metadata": {},
   "outputs": [],
   "source": [
    "responses[[\"chapter\",\"response\", \"prompt\"]]"
   ]
  },
  {
   "cell_type": "markdown",
   "id": "fd851904-3979-4cb3-adc0-a113f64efaf0",
   "metadata": {},
   "source": [
    "## Items"
   ]
  },
  {
   "cell_type": "markdown",
   "id": "6da0cfb1-8139-4ac4-a75b-383e4f5edc4c",
   "metadata": {},
   "source": [
    "In this section, I merged noPionts dataset with the item on lrn_question_reference because I wanted to extract lrn_type which is the question type and the review falg which is if the question is the review section"
   ]
  },
  {
   "cell_type": "markdown",
   "id": "6c13b1b0-c595-4b40-b62f-1b490d6950f0",
   "metadata": {},
   "source": [
    "The reason why I wanted to merge and got lrn_type and review falg variables because we may can find something interesting to know what type of questions that student cannot get the points."
   ]
  },
  {
   "cell_type": "code",
   "execution_count": null,
   "id": "1d3aca36-708c-4bc0-bb87-1527ffe2d8a4",
   "metadata": {},
   "outputs": [],
   "source": [
    "len(items)"
   ]
  },
  {
   "cell_type": "code",
   "execution_count": null,
   "id": "79b942c4-3b14-42f6-ac1b-d2a0c3e659cc",
   "metadata": {},
   "outputs": [],
   "source": [
    "items.info()"
   ]
  },
  {
   "cell_type": "code",
   "execution_count": null,
   "id": "b68915e2-36b6-40aa-9b4e-804d558b5f78",
   "metadata": {},
   "outputs": [],
   "source": [
    "items.head()"
   ]
  },
  {
   "cell_type": "code",
   "execution_count": null,
   "id": "8058ac20-1eab-4ac4-8370-e2566204da6b",
   "metadata": {},
   "outputs": [],
   "source": [
    "items_interested = items[[\"lrn_question_reference\", \"lrn_type\", \"review_flag\"]].copy()"
   ]
  },
  {
   "cell_type": "code",
   "execution_count": null,
   "id": "fcda34ef-cc2f-4673-9d5a-4d7276dc6339",
   "metadata": {},
   "outputs": [],
   "source": [
    "items.columns"
   ]
  },
  {
   "cell_type": "code",
   "execution_count": null,
   "id": "424074ea-4780-4b98-948d-f988cfcaef88",
   "metadata": {},
   "outputs": [],
   "source": [
    "responses.columns"
   ]
  },
  {
   "cell_type": "code",
   "execution_count": null,
   "id": "882aabc5-6a4f-4814-8425-4d1b5e462394",
   "metadata": {},
   "outputs": [],
   "source": [
    "responses.completes_page"
   ]
  },
  {
   "cell_type": "markdown",
   "id": "837617ff-9a1f-492d-8af7-c415fb2896f8",
   "metadata": {},
   "source": [
    "### Merging (noPionts dataset become noPts_respon_item_df)"
   ]
  },
  {
   "cell_type": "code",
   "execution_count": null,
   "id": "08eec73b-8845-4b6d-b61e-28fab3ff72e0",
   "metadata": {},
   "outputs": [],
   "source": [
    "noPts_respon_item_df = pd.merge(noPoints_item3_spDf, items_interested, how='left',on=\"lrn_question_reference\")\n",
    "noPts_respon_item_df"
   ]
  },
  {
   "cell_type": "code",
   "execution_count": null,
   "id": "c7c6d6e3-be46-468b-96b6-2f1815dc6261",
   "metadata": {},
   "outputs": [],
   "source": [
    "sns.barplot(noPts_respon_item_df[\"review_flag\"].value_counts())"
   ]
  },
  {
   "cell_type": "markdown",
   "id": "672b881e-2c80-4049-8acb-5addd94a6305",
   "metadata": {},
   "source": [
    "Most questions that the students cannot get the pionts do not come from the review section"
   ]
  },
  {
   "cell_type": "code",
   "execution_count": null,
   "id": "02cbb36d-12eb-4063-922b-b4c6d3e3471f",
   "metadata": {},
   "outputs": [],
   "source": [
    "# respon_item_df.to_csv(\"respon_item_df.csv\")"
   ]
  },
  {
   "cell_type": "markdown",
   "id": "223380e1-e598-4063-8c1c-c08bd4fefdd1",
   "metadata": {},
   "source": [
    "## Page Views"
   ]
  },
  {
   "cell_type": "markdown",
   "id": "048355e7-aa99-4c02-ae55-237e20922bda",
   "metadata": {},
   "source": [
    "In this section, I wanted to merge the page views and noPts_respon_item_df on page and student id to see how many time they work on these assginments but still cannot get the pionts based on the engaged variables"
   ]
  },
  {
   "cell_type": "code",
   "execution_count": null,
   "id": "8d3701a9-8fb9-46c9-b4e5-03e569f8de87",
   "metadata": {},
   "outputs": [],
   "source": [
    "page_views.head()"
   ]
  },
  {
   "cell_type": "code",
   "execution_count": null,
   "id": "4433063e-b106-4f58-aa5c-70b924bd7103",
   "metadata": {},
   "outputs": [],
   "source": [
    "page_views.info()"
   ]
  },
  {
   "cell_type": "code",
   "execution_count": null,
   "id": "024232cc-6e2c-4a9d-9d4a-e8c7a0cf3043",
   "metadata": {
    "scrolled": true
   },
   "outputs": [],
   "source": [
    "page_views_interested = page_views[[\"student_id\", \"page\", \"engaged\"]].copy()\n",
    "page_views_interested"
   ]
  },
  {
   "cell_type": "code",
   "execution_count": null,
   "id": "94865203-4ab5-423a-a0a6-98fa15a0b7bd",
   "metadata": {
    "scrolled": true
   },
   "outputs": [],
   "source": [
    "noPts_respon_item_df.head()"
   ]
  },
  {
   "cell_type": "code",
   "execution_count": null,
   "id": "344caffe-6eee-45ca-8674-8248de050632",
   "metadata": {},
   "outputs": [],
   "source": [
    "timeOnPage = pd.DataFrame(page_views_interested.groupby([\"student_id\", \"page\"])[\"engaged\"].sum()).reset_index()\n",
    "timeOnPage"
   ]
  },
  {
   "cell_type": "markdown",
   "id": "94160fd3-4717-47fe-885b-b84606bcddcc",
   "metadata": {},
   "source": [
    "### noPts_respon_item_pgview_engaged_df"
   ]
  },
  {
   "cell_type": "code",
   "execution_count": null,
   "id": "a5a74cf7-5905-4069-99e6-3906c17a6032",
   "metadata": {},
   "outputs": [],
   "source": [
    "noPts_respon_item_pgview_engaged_df = noPts_respon_item_df.merge(timeOnPage, on=[\"student_id\", \"page\"])\n",
    "noPts_respon_item_pgview_engaged_df"
   ]
  },
  {
   "cell_type": "code",
   "execution_count": null,
   "id": "0eb82efd-f0c4-4eaa-9b2c-d5bbf537067c",
   "metadata": {},
   "outputs": [],
   "source": [
    "# noPts_respon_item_pgview_engaged_df.to_csv(\"noPts_respon_item_pgview_engaged_df.csv\")"
   ]
  }
 ],
 "metadata": {
  "kernelspec": {
   "display_name": "Python 3 (ipykernel)",
   "language": "python",
   "name": "python3"
  },
  "language_info": {
   "codemirror_mode": {
    "name": "ipython",
    "version": 3
   },
   "file_extension": ".py",
   "mimetype": "text/x-python",
   "name": "python",
   "nbconvert_exporter": "python",
   "pygments_lexer": "ipython3",
   "version": "3.11.7"
  }
 },
 "nbformat": 4,
 "nbformat_minor": 5
}
